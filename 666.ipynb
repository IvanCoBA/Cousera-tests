{
    "cells": [
        {
            "cell_type": "markdown",
            "id": "1cc07476",
            "metadata": {},
            "source": "<H1>Data Science Tools and Ecosystem<H1>\n "
        },
        {
            "cell_type": "markdown",
            "id": "f8279a99",
            "metadata": {},
            "source": "In this notebook, Data Science Tools and Ecosystem are summarized."
        },
        {
            "cell_type": "markdown",
            "id": "21aea8f1",
            "metadata": {},
            "source": "| <H5>Objectives<H5> |\n| ---- |\n| Some of the popular languages that Data Scientists use |\n| Some of the commonly used libraries used by Data Scientists |\n| Examples of evaluating arithmetic expressions in Python |"
        },
        {
            "cell_type": "markdown",
            "id": "a1092d62",
            "metadata": {},
            "source": "Some of the popular languages that Data Scientists use are:\n1. Python\n2. R\n3. Java\n4. C++"
        },
        {
            "cell_type": "markdown",
            "id": "bb4c709b",
            "metadata": {},
            "source": "Some of the commonly used libraries used by Data Scientists include:\n\nPython library:\n1. NumPy\n2. Matplotlib\n3. Pandas\n4. TensorFlow\n\nR library:\n1. ggplot2\n"
        },
        {
            "cell_type": "markdown",
            "id": "ca17a0ea",
            "metadata": {},
            "source": "| Data Science Tools |\n| :-- |\n| Jupyter notebook |\n| RStudio |\n| Git / GitHub |"
        },
        {
            "cell_type": "markdown",
            "id": "e8d5db1e",
            "metadata": {},
            "source": "<H3>Below are a few examples of evaluating arithmetic expressions in Python<H3>"
        },
        {
            "cell_type": "code",
            "execution_count": 4,
            "id": "2d9b51ba",
            "metadata": {},
            "outputs": [
                {
                    "data": {
                        "text/plain": "17"
                    },
                    "execution_count": 4,
                    "metadata": {},
                    "output_type": "execute_result"
                }
            ],
            "source": "#This a simple arithmetic expression to mutiply then add integers\n(3*4)+5\n"
        },
        {
            "cell_type": "code",
            "execution_count": 10,
            "id": "2781acf0",
            "metadata": {},
            "outputs": [
                {
                    "data": {
                        "text/plain": "3.33"
                    },
                    "execution_count": 10,
                    "metadata": {},
                    "output_type": "execute_result"
                }
            ],
            "source": "#This will convert 200 minutes to hours by diving by 60\nround(200 / 60, 2)"
        },
        {
            "cell_type": "markdown",
            "id": "a67e3b17",
            "metadata": {},
            "source": "<H2>Author<H2>\n    \nIvan Shaitzhanov"
        },
        {
            "cell_type": "code",
            "execution_count": null,
            "id": "4816cb3f",
            "metadata": {},
            "outputs": [],
            "source": ""
        }
    ],
    "metadata": {
        "kernelspec": {
            "display_name": "Python 3.10",
            "language": "python",
            "name": "python3"
        },
        "language_info": {
            "codemirror_mode": {
                "name": "ipython",
                "version": 3
            },
            "file_extension": ".py",
            "mimetype": "text/x-python",
            "name": "python",
            "nbconvert_exporter": "python",
            "pygments_lexer": "ipython3",
            "version": "3.10.9"
        }
    },
    "nbformat": 4,
    "nbformat_minor": 5
}